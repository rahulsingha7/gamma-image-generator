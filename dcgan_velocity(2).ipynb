{
  "cells": [
    {
      "cell_type": "code",
      "execution_count": null,
      "metadata": {
        "colab": {
          "base_uri": "https://localhost:8080/"
        },
        "id": "CKQykZhb3eyy",
        "outputId": "82e0dd3a-f57b-4117-9705-20ffe6e93500"
      },
      "outputs": [
        {
          "output_type": "stream",
          "name": "stdout",
          "text": [
            "Requirement already satisfied: imageio in /usr/local/lib/python3.10/dist-packages (2.31.6)\n",
            "Requirement already satisfied: numpy in /usr/local/lib/python3.10/dist-packages (from imageio) (1.25.2)\n",
            "Requirement already satisfied: pillow<10.1.0,>=8.3.2 in /usr/local/lib/python3.10/dist-packages (from imageio) (9.4.0)\n",
            "Collecting mtcnn\n",
            "  Downloading mtcnn-0.1.1-py3-none-any.whl (2.3 MB)\n",
            "\u001b[2K     \u001b[90m━━━━━━━━━━━━━━━━━━━━━━━━━━━━━━━━━━━━━━━━\u001b[0m \u001b[32m2.3/2.3 MB\u001b[0m \u001b[31m6.9 MB/s\u001b[0m eta \u001b[36m0:00:00\u001b[0m\n",
            "\u001b[?25hRequirement already satisfied: keras>=2.0.0 in /usr/local/lib/python3.10/dist-packages (from mtcnn) (2.15.0)\n",
            "Requirement already satisfied: opencv-python>=4.1.0 in /usr/local/lib/python3.10/dist-packages (from mtcnn) (4.8.0.76)\n",
            "Requirement already satisfied: numpy>=1.21.2 in /usr/local/lib/python3.10/dist-packages (from opencv-python>=4.1.0->mtcnn) (1.25.2)\n",
            "Installing collected packages: mtcnn\n",
            "Successfully installed mtcnn-0.1.1\n",
            "Collecting git+https://github.com/tensorflow/docs\n",
            "  Cloning https://github.com/tensorflow/docs to /tmp/pip-req-build-d5udz90f\n",
            "  Running command git clone --filter=blob:none --quiet https://github.com/tensorflow/docs /tmp/pip-req-build-d5udz90f\n",
            "  Resolved https://github.com/tensorflow/docs to commit 0cc42b470815d1d15cdaefd556568fed5508bfe4\n",
            "  Preparing metadata (setup.py) ... \u001b[?25l\u001b[?25hdone\n",
            "Collecting astor (from tensorflow-docs==2024.5.3.31743)\n",
            "  Downloading astor-0.8.1-py2.py3-none-any.whl (27 kB)\n",
            "Requirement already satisfied: absl-py in /usr/local/lib/python3.10/dist-packages (from tensorflow-docs==2024.5.3.31743) (1.4.0)\n",
            "Requirement already satisfied: jinja2 in /usr/local/lib/python3.10/dist-packages (from tensorflow-docs==2024.5.3.31743) (3.1.3)\n",
            "Requirement already satisfied: nbformat in /usr/local/lib/python3.10/dist-packages (from tensorflow-docs==2024.5.3.31743) (5.10.4)\n",
            "Requirement already satisfied: protobuf>=3.12 in /usr/local/lib/python3.10/dist-packages (from tensorflow-docs==2024.5.3.31743) (3.20.3)\n",
            "Requirement already satisfied: pyyaml in /usr/local/lib/python3.10/dist-packages (from tensorflow-docs==2024.5.3.31743) (6.0.1)\n",
            "Requirement already satisfied: MarkupSafe>=2.0 in /usr/local/lib/python3.10/dist-packages (from jinja2->tensorflow-docs==2024.5.3.31743) (2.1.5)\n",
            "Requirement already satisfied: fastjsonschema>=2.15 in /usr/local/lib/python3.10/dist-packages (from nbformat->tensorflow-docs==2024.5.3.31743) (2.19.1)\n",
            "Requirement already satisfied: jsonschema>=2.6 in /usr/local/lib/python3.10/dist-packages (from nbformat->tensorflow-docs==2024.5.3.31743) (4.19.2)\n",
            "Requirement already satisfied: jupyter-core!=5.0.*,>=4.12 in /usr/local/lib/python3.10/dist-packages (from nbformat->tensorflow-docs==2024.5.3.31743) (5.7.2)\n",
            "Requirement already satisfied: traitlets>=5.1 in /usr/local/lib/python3.10/dist-packages (from nbformat->tensorflow-docs==2024.5.3.31743) (5.7.1)\n",
            "Requirement already satisfied: attrs>=22.2.0 in /usr/local/lib/python3.10/dist-packages (from jsonschema>=2.6->nbformat->tensorflow-docs==2024.5.3.31743) (23.2.0)\n",
            "Requirement already satisfied: jsonschema-specifications>=2023.03.6 in /usr/local/lib/python3.10/dist-packages (from jsonschema>=2.6->nbformat->tensorflow-docs==2024.5.3.31743) (2023.12.1)\n",
            "Requirement already satisfied: referencing>=0.28.4 in /usr/local/lib/python3.10/dist-packages (from jsonschema>=2.6->nbformat->tensorflow-docs==2024.5.3.31743) (0.35.1)\n",
            "Requirement already satisfied: rpds-py>=0.7.1 in /usr/local/lib/python3.10/dist-packages (from jsonschema>=2.6->nbformat->tensorflow-docs==2024.5.3.31743) (0.18.0)\n",
            "Requirement already satisfied: platformdirs>=2.5 in /usr/local/lib/python3.10/dist-packages (from jupyter-core!=5.0.*,>=4.12->nbformat->tensorflow-docs==2024.5.3.31743) (4.2.1)\n",
            "Building wheels for collected packages: tensorflow-docs\n",
            "  Building wheel for tensorflow-docs (setup.py) ... \u001b[?25l\u001b[?25hdone\n",
            "  Created wheel for tensorflow-docs: filename=tensorflow_docs-2024.5.3.31743-py3-none-any.whl size=182531 sha256=fc6995b2392843dba5cd1ceeb449f531183b2b23887c3196ed77da0745d13c01\n",
            "  Stored in directory: /tmp/pip-ephem-wheel-cache-zw3724ta/wheels/86/0f/1e/3b62293c8ffd0fd5a49508e6871cdb7554abe9c62afd35ec53\n",
            "Successfully built tensorflow-docs\n",
            "Installing collected packages: astor, tensorflow-docs\n",
            "Successfully installed astor-0.8.1 tensorflow-docs-2024.5.3.31743\n"
          ]
        }
      ],
      "source": [
        "# To generate GIFs\n",
        "!pip install imageio\n",
        "!pip install mtcnn\n",
        "!pip install git+https://github.com/tensorflow/docs"
      ]
    },
    {
      "cell_type": "code",
      "source": [
        "from google.colab import drive\n",
        "drive.mount('/content/drive')"
      ],
      "metadata": {
        "colab": {
          "base_uri": "https://localhost:8080/"
        },
        "id": "Jjc8PcEVmSkN",
        "outputId": "0aeaf5df-6b5a-4f62-c79f-87d55663913c"
      },
      "execution_count": null,
      "outputs": [
        {
          "output_type": "stream",
          "name": "stdout",
          "text": [
            "Mounted at /content/drive\n"
          ]
        }
      ]
    },
    {
      "cell_type": "code",
      "execution_count": null,
      "metadata": {
        "id": "EtuBZhnRmDQ9"
      },
      "outputs": [],
      "source": [
        "import tensorflow_docs.vis.embed as embed\n",
        "import tensorflow as tf\n",
        "\n",
        "import glob\n",
        "import imageio\n",
        "import matplotlib.pyplot as plt\n",
        "import numpy as np\n",
        "import os\n",
        "import PIL\n",
        "from tensorflow.keras import layers\n",
        "import time\n",
        "\n",
        "from IPython import display\n",
        "\n",
        "\n",
        "import tensorflow as tf\n",
        "import os\n",
        "from PIL import Image\n",
        "import numpy as np\n",
        "from mtcnn import MTCNN\n",
        "\n",
        "\n",
        "import random\n",
        "from PIL import Image, ImageOps, ImageEnhance"
      ]
    },
    {
      "cell_type": "markdown",
      "metadata": {
        "id": "6_0yljo8mDRA"
      },
      "source": [
        "# Train GAN on B&W images"
      ]
    },
    {
      "cell_type": "code",
      "execution_count": null,
      "metadata": {
        "colab": {
          "base_uri": "https://localhost:8080/",
          "height": 436
        },
        "id": "1B-NnsC_mDRC",
        "outputId": "7b6347ee-6f49-4b96-be33-50298b41ff2d"
      },
      "outputs": [
        {
          "output_type": "display_data",
          "data": {
            "text/plain": [
              "<Figure size 400x400 with 16 Axes>"
            ],
            "image/png": "[encoded data removed]"
          },
          "metadata": {}
        },
        {
          "output_type": "stream",
          "name": "stderr",
          "text": [
            "/usr/local/lib/python3.10/dist-packages/keras/src/engine/training.py:3103: UserWarning: You are saving your model as an HDF5 file via `model.save()`. This file format is considered legacy. We recommend using instead the native Keras format, e.g. `model.save('my_model.keras')`.\n",
            "  saving_api.save_model(\n",
            "WARNING:tensorflow:Compiled the loaded model, but the compiled metrics have yet to be built. `model.compile_metrics` will be empty until you train or evaluate the model.\n",
            "WARNING:tensorflow:Compiled the loaded model, but the compiled metrics have yet to be built. `model.compile_metrics` will be empty until you train or evaluate the model.\n"
          ]
        }
      ],
      "source": [
        "# Parse features from image names\n",
        "\n",
        "\n",
        "def parse_image_name(filename):\n",
        "    parts = filename[:-4].split()  # Remove '.png' extension and split by space\n",
        "    velocity = float(parts[0])\n",
        "    feature1 = float(parts[1])\n",
        "    feature2 = float(parts[2])\n",
        "    return velocity, feature1, feature2\n",
        "\n",
        "# Load images and parse features\n",
        "\n",
        "\n",
        "def load_images_and_parse_features(directory):\n",
        "    images = []\n",
        "    features = []\n",
        "\n",
        "    for filename in os.listdir(directory):\n",
        "        image_path = os.path.join(directory, filename)\n",
        "        image = tf.image.decode_png(tf.io.read_file(image_path), channels=1)\n",
        "        image = tf.image.convert_image_dtype(image, tf.float32)\n",
        "        images.append(image)\n",
        "        features.append(parse_image_name(filename))\n",
        "\n",
        "    return np.array(images), np.array(features)\n",
        "\n",
        "\n",
        "# Load images and features\n",
        "velocity_files_dir = \"/content/drive/MyDrive/Green/velocity_files\"\n",
        "train_images, train_features = load_images_and_parse_features(\n",
        "    velocity_files_dir)\n",
        "\n",
        "# Normalize images to [-1, 1]\n",
        "train_images = (train_images - 0.5) / 0.5\n",
        "\n",
        "# Define constants\n",
        "BUFFER_SIZE = 60000\n",
        "BATCH_SIZE = 8\n",
        "noise_dim = 100\n",
        "num_examples_to_generate = 16\n",
        "\n",
        "# Reshape images to match model input shape\n",
        "train_images = tf.image.resize(train_images, (48, 48))\n",
        "\n",
        "# Define the input shape for the features\n",
        "feature_shape = (3,)  # Assuming 3 features: velocity, feature1, feature2\n",
        "\n",
        "# Create TensorFlow dataset\n",
        "train_dataset = tf.data.Dataset.from_tensor_slices(\n",
        "    (train_images, train_features))\n",
        "train_dataset = train_dataset.shuffle(BUFFER_SIZE).batch(BATCH_SIZE)\n",
        "\n",
        "# Generator model\n",
        "\n",
        "\n",
        "def make_generator_model():\n",
        "    noise_input = layers.Input(shape=(noise_dim,))\n",
        "    feature_input = layers.Input(shape=feature_shape)\n",
        "\n",
        "    merged_input = layers.Concatenate()([noise_input, feature_input])\n",
        "\n",
        "    model = layers.Dense(6*6*256, use_bias=False)(merged_input)\n",
        "    model = layers.BatchNormalization()(model)\n",
        "    model = layers.LeakyReLU()(model)\n",
        "    model = layers.Reshape((6, 6, 256))(model)\n",
        "\n",
        "    model = layers.Conv2DTranspose(128, (5, 5), strides=(\n",
        "        2, 2), padding='same', use_bias=False)(model)\n",
        "    model = layers.BatchNormalization()(model)\n",
        "    model = layers.LeakyReLU()(model)\n",
        "\n",
        "    model = layers.Conv2DTranspose(64, (5, 5), strides=(\n",
        "        2, 2), padding='same', use_bias=False)(model)\n",
        "    model = layers.BatchNormalization()(model)\n",
        "    model = layers.LeakyReLU()(model)\n",
        "\n",
        "    generated_image = layers.Conv2DTranspose(1, (5, 5), strides=(\n",
        "        2, 2), padding='same', use_bias=False, activation='tanh')(model)\n",
        "\n",
        "    return tf.keras.Model(inputs=[noise_input, feature_input], outputs=generated_image)\n",
        "\n",
        "# Discriminator model\n",
        "\n",
        "\n",
        "def make_discriminator_model():\n",
        "    model = tf.keras.Sequential([\n",
        "        layers.Conv2D(64, (5, 5), strides=(2, 2),\n",
        "                      padding='same', input_shape=(48, 48, 1)),\n",
        "        layers.LeakyReLU(),\n",
        "        layers.Dropout(0.3),\n",
        "\n",
        "        layers.Conv2D(128, (5, 5), strides=(2, 2), padding='same'),\n",
        "        layers.LeakyReLU(),\n",
        "        layers.Dropout(0.3),\n",
        "\n",
        "        layers.Flatten(),\n",
        "        layers.Dense(1)\n",
        "    ])\n",
        "    return model\n",
        "\n",
        "\n",
        "# Define the models\n",
        "generator = make_generator_model()\n",
        "discriminator = make_discriminator_model()\n",
        "\n",
        "# Losses\n",
        "cross_entropy = tf.keras.losses.BinaryCrossentropy(from_logits=True)\n",
        "\n",
        "# Generator loss\n",
        "\n",
        "\n",
        "def generator_loss(fake_output):\n",
        "    return cross_entropy(tf.ones_like(fake_output), fake_output)\n",
        "\n",
        "# Discriminator loss\n",
        "\n",
        "\n",
        "def discriminator_loss(real_output, fake_output):\n",
        "    real_loss = cross_entropy(tf.ones_like(real_output), real_output)\n",
        "    fake_loss = cross_entropy(tf.zeros_like(fake_output), fake_output)\n",
        "    return real_loss + fake_loss\n",
        "\n",
        "\n",
        "# Optimizers\n",
        "generator_optimizer = tf.keras.optimizers.Adam(1e-4)\n",
        "discriminator_optimizer = tf.keras.optimizers.Adam(1e-4)\n",
        "\n",
        "# Checkpoint\n",
        "checkpoint_dir = '/content/drive/MyDrive/Green'\n",
        "checkpoint_prefix = os.path.join(checkpoint_dir, \"ckpt\")\n",
        "checkpoint = tf.train.Checkpoint(generator_optimizer=generator_optimizer,\n",
        "                                 discriminator_optimizer=discriminator_optimizer,\n",
        "                                 generator=generator,\n",
        "                                 discriminator=discriminator)\n",
        "\n",
        "# Training step function with noise initialization\n",
        "\n",
        "\n",
        "@tf.function\n",
        "def train_step(images, features):\n",
        "    noise = tf.random.normal([tf.shape(images)[0], noise_dim])\n",
        "\n",
        "    with tf.GradientTape() as gen_tape, tf.GradientTape() as disc_tape:\n",
        "        generated_images = generator([noise, features], training=True)\n",
        "\n",
        "        real_output = discriminator(images, training=True)\n",
        "        fake_output = discriminator(generated_images, training=True)\n",
        "\n",
        "        gen_loss = generator_loss(fake_output)\n",
        "        disc_loss = discriminator_loss(real_output, fake_output)\n",
        "\n",
        "    gradients_of_generator = gen_tape.gradient(\n",
        "        gen_loss, generator.trainable_variables)\n",
        "    gradients_of_discriminator = disc_tape.gradient(\n",
        "        disc_loss, discriminator.trainable_variables)\n",
        "\n",
        "    generator_optimizer.apply_gradients(\n",
        "        zip(gradients_of_generator, generator.trainable_variables))\n",
        "    discriminator_optimizer.apply_gradients(\n",
        "        zip(gradients_of_discriminator, discriminator.trainable_variables))\n",
        "\n",
        "# Training function with early stopping\n",
        "\n",
        "\n",
        "def train(dataset, epochs):\n",
        "    for epoch in range(epochs):\n",
        "        start = time.time()\n",
        "\n",
        "        for image_batch, features_batch in dataset:\n",
        "            train_step(image_batch, features_batch)\n",
        "\n",
        "        display.clear_output(wait=True)\n",
        "        generate_and_save_images(\n",
        "            generator, epoch + 1, seed, train_features[:num_examples_to_generate])\n",
        "\n",
        "        if (epoch + 1) % 10 == 0:\n",
        "            checkpoint.save(file_prefix=checkpoint_prefix)\n",
        "\n",
        "        print(f\"Time for epoch {epoch + 1} is {time.time() - start:.2f} sec\")\n",
        "\n",
        "    display.clear_output(wait=True)\n",
        "    generate_and_save_images(generator, epoch + 1, seed,\n",
        "                             train_features[:num_examples_to_generate])\n",
        "\n",
        "# Generate and save images\n",
        "\n",
        "\n",
        "def generate_and_save_images(model, epoch, noise_input, features_input):\n",
        "    predictions = model([noise_input, features_input], training=False)\n",
        "\n",
        "    fig = plt.figure(figsize=(4, 4))\n",
        "\n",
        "    for i in range(predictions.shape[0]):\n",
        "        plt.subplot(4, 4, i+1)\n",
        "        plt.imshow(predictions[i, :, :, 0] * 127.5 + 127.5, cmap='gray')\n",
        "        plt.axis('off')\n",
        "\n",
        "    # plt.savefig('image_at_epoch_{:04d}.png'.format(epoch))\n",
        "    plt.show()\n",
        "\n",
        "\n",
        "# Train the model\n",
        "EPOCHS = 2000\n",
        "num_examples_to_generate = 16\n",
        "seed = tf.random.normal([num_examples_to_generate, noise_dim])\n",
        "train(train_dataset, EPOCHS)\n",
        "\n",
        "# Save the models\n",
        "generator.save('generator_model.h5')\n",
        "discriminator.save('discriminator_model.h5')"
      ]
    },
    {
      "cell_type": "markdown",
      "metadata": {
        "id": "dXeXHG6DmDRF"
      },
      "source": [
        "# Generate Image from user input"
      ]
    },
    {
      "cell_type": "code",
      "execution_count": null,
      "metadata": {
        "colab": {
          "base_uri": "https://localhost:8080/",
          "height": 513
        },
        "id": "pyopIdBomDRH",
        "outputId": "4ca8888f-9dcb-44ec-a3dc-bb18b19f9d9c"
      },
      "outputs": [
        {
          "output_type": "stream",
          "name": "stderr",
          "text": [
            "WARNING:tensorflow:No training configuration found in the save file, so the model was *not* compiled. Compile it manually.\n",
            "WARNING:tensorflow:No training configuration found in the save file, so the model was *not* compiled. Compile it manually.\n"
          ]
        },
        {
          "output_type": "stream",
          "name": "stdout",
          "text": [
            "Enter Gamma:100\n",
            "Enter feature 1:0.5\n",
            "Enter feature 2:10.5\n",
            "1/1 [==============================] - 0s 235ms/step\n"
          ]
        },
        {
          "output_type": "display_data",
          "data": {
            "text/plain": [
              "<Figure size 640x480 with 1 Axes>"
            ],
            "image/png": "[encoded data removed]"
          },
          "metadata": {}
        }
      ],
      "source": [
        "# Load the models\n",
        "loaded_generator = tf.keras.models.load_model('generator_model.h5')\n",
        "loaded_discriminator = tf.keras.models.load_model('discriminator_model.h5')\n",
        "\n",
        "# Compile the loaded generator model\n",
        "loaded_generator.compile()\n",
        "\n",
        "# Function to generate image based on user inputs\n",
        "def generate_image(generator_model, noise_dim, gamma, feature1, feature2):\n",
        "    # Prepare noise input\n",
        "    noise_input = np.random.normal(size=(1, noise_dim))\n",
        "\n",
        "    # Prepare feature input\n",
        "    feature_input = np.array([[gamma, feature1, feature2]])\n",
        "\n",
        "    # Generate image\n",
        "    generated_image = generator_model.predict([noise_input, feature_input])\n",
        "\n",
        "    return generated_image\n",
        "\n",
        "# Example inputs\n",
        "gamma = int(input(\"Enter Gamma:\"))  # Example value for Gamma\n",
        "feature1 = float(input(\"Enter feature 1:\")) # Example value for feature1\n",
        "feature2 = float(input(\"Enter feature 2:\"))  # Example value for feature2\n",
        "\n",
        "# Generate image based on user inputs\n",
        "generated_image = generate_image(loaded_generator, noise_dim, gamma, feature1, feature2)\n",
        "\n",
        "# Display the generated image\n",
        "plt.imshow(generated_image[0, :, :, 0] * 127.5 + 127.5, cmap='gray')\n",
        "plt.axis('off')\n",
        "plt.show()\n"
      ]
    },
    {
      "cell_type": "code",
      "execution_count": null,
      "metadata": {
        "id": "3m6BIafwmDRI"
      },
      "outputs": [],
      "source": []
    }
  ],
  "metadata": {
    "accelerator": "GPU",
    "colab": {
      "gpuType": "T4",
      "provenance": []
    },
    "kernelspec": {
      "display_name": "Python 3",
      "name": "python3"
    },
    "language_info": {
      "codemirror_mode": {
        "name": "ipython",
        "version": 3
      },
      "file_extension": ".py",
      "mimetype": "text/x-python",
      "name": "python",
      "nbconvert_exporter": "python",
      "pygments_lexer": "ipython3",
      "version": "3.11.5"
    }
  },
  "nbformat": 4,
  "nbformat_minor": 0
}